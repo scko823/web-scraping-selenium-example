{
 "cells": [
  {
   "cell_type": "code",
   "execution_count": 3,
   "metadata": {
    "collapsed": true
   },
   "outputs": [],
   "source": [
    "from selenium import webdriver\n",
    "#import urllib you can use urllib to send web request to websites and get back html text as response\n",
    "import pandas as pd\n",
    "from bs4 import BeautifulSoup\n",
    "from selenium.webdriver.common.keys import Keys\n",
    "from lxml import html\n",
    "import numpy\n",
    "# import dependencies"
   ]
  },
  {
   "cell_type": "code",
   "execution_count": 4,
   "metadata": {
    "collapsed": false
   },
   "outputs": [],
   "source": [
    "browser = webdriver.Firefox() #I only tested in firefox\n",
    "browser.get('http://costcotravel.com/Rental-Cars')\n",
    "browser.implicitly_wait(5)#wait for webpage download"
   ]
  },
  {
   "cell_type": "code",
   "execution_count": 5,
   "metadata": {
    "collapsed": true
   },
   "outputs": [],
   "source": [
    "browser.find_element_by_id('pickupLocationTextWidget').send_keys(\"PHX\");"
   ]
  },
  {
   "cell_type": "code",
   "execution_count": 6,
   "metadata": {
    "collapsed": true
   },
   "outputs": [],
   "source": [
    "browser.find_element_by_css_selector('.sayt-result').click()\n"
   ]
  },
  {
   "cell_type": "code",
   "execution_count": 7,
   "metadata": {
    "collapsed": true
   },
   "outputs": [],
   "source": [
    "browser.find_element_by_id(\"pickupDateWidget\").send_keys('08/27/2016')#you can't send it directly, need to clear first"
   ]
  },
  {
   "cell_type": "code",
   "execution_count": 8,
   "metadata": {
    "collapsed": false
   },
   "outputs": [],
   "source": [
    "browser.find_element_by_id(\"pickupDateWidget\").clear()"
   ]
  },
  {
   "cell_type": "code",
   "execution_count": 9,
   "metadata": {
    "collapsed": true
   },
   "outputs": [],
   "source": [
    "browser.find_element_by_id(\"pickupDateWidget\").send_keys('08/27/2016')"
   ]
  },
  {
   "cell_type": "code",
   "execution_count": 10,
   "metadata": {
    "collapsed": false
   },
   "outputs": [],
   "source": [
    "browser.find_element_by_id(\"dropoffDateWidget\").clear()"
   ]
  },
  {
   "cell_type": "code",
   "execution_count": 11,
   "metadata": {
    "collapsed": false
   },
   "outputs": [],
   "source": [
    "browser.find_element_by_id(\"dropoffDateWidget\").send_keys('08/31/2016',Keys.RETURN)"
   ]
  },
  {
   "cell_type": "code",
   "execution_count": 12,
   "metadata": {
    "collapsed": true
   },
   "outputs": [],
   "source": [
    "browser.find_element_by_css_selector('#pickupTimeWidget option[value=\"03:00 PM\"]').click() #select time "
   ]
  },
  {
   "cell_type": "code",
   "execution_count": 13,
   "metadata": {
    "collapsed": true
   },
   "outputs": [],
   "source": [
    "browser.find_element_by_css_selector('#dropoffTimeWidget option[value=\"03:00 PM\"]').click()"
   ]
  },
  {
   "cell_type": "code",
   "execution_count": 14,
   "metadata": {
    "collapsed": true
   },
   "outputs": [],
   "source": [
    "browser.find_element_by_link_text('SEARCH').click() #click the red button !!"
   ]
  },
  {
   "cell_type": "code",
   "execution_count": 52,
   "metadata": {
    "collapsed": false
   },
   "outputs": [],
   "source": [
    "n = browser.page_source.encode('utf-8') #grab the page source"
   ]
  },
  {
   "cell_type": "markdown",
   "metadata": {},
   "source": [
    "The follow code is same as before, but you can send the commands all in one go. \n",
    "However, there are implicit wait for the driver so it can do AJAX request and render the page for elements\n",
    "also, you can you find_element_by_xpath method"
   ]
  },
  {
   "cell_type": "code",
   "execution_count": 14,
   "metadata": {
    "collapsed": false,
    "scrolled": true
   },
   "outputs": [],
   "source": [
    "\n",
    "# browser = webdriver.Firefox() #I only tested in firefox\n",
    "# browser.get('http://costcotravel.com/Rental-Cars')\n",
    "# browser.implicitly_wait(5)#wait for webpage download\n",
    "# browser.find_element_by_id('pickupLocationTextWidget').send_keys(\"PHX\");\n",
    "# browser.implicitly_wait(5) #wait for the airport suggestion box to show\n",
    "# browser.find_element_by_xpath('//li[@class=\"sayt-result\"]').click() \n",
    "# #click the  airport suggestion box \n",
    "\n",
    "# browser.find_element_by_xpath('//input[@id=\"pickupDateWidget\"]').send_keys('08/27/2016')\n",
    "# browser.find_element_by_xpath('//input[@id=\"dropoffDateWidget\"]').send_keys('08/30/2016',Keys.RETURN)\n",
    "\n",
    "# browser.find_element_by_xpath('//select[@id=\"pickupTimeWidget\"]/option[@value=\"09:00 AM\"]').click()\n",
    "# browser.find_element_by_xpath('//select[@id=\"dropoffTimeWidget\"]/option[@value=\"05:00 PM\"]').click()\n",
    "# browser.implicitly_wait(5) #wait for the clicks to be completed\n",
    "# browser.find_element_by_link_text('SEARCH').click()\n",
    "# #click the search box\n",
    "\n",
    "# time.sleep(8) #wait for firefox to download and render the page\n",
    "# n = browser.page_source #grab the html source code"
   ]
  },
  {
   "cell_type": "code",
   "execution_count": 15,
   "metadata": {
    "collapsed": false
   },
   "outputs": [
    {
     "data": {
      "text/plain": [
       "unicode"
      ]
     },
     "execution_count": 15,
     "metadata": {},
     "output_type": "execute_result"
    }
   ],
   "source": [
    "type(n) #the site use unicode"
   ]
  },
  {
   "cell_type": "code",
   "execution_count": 60,
   "metadata": {
    "collapsed": false
   },
   "outputs": [],
   "source": [
    "soup = BeautifulSoup(n,'lxml') #use BeautifulSoup to parse the source"
   ]
  },
  {
   "cell_type": "code",
   "execution_count": 66,
   "metadata": {
    "collapsed": false
   },
   "outputs": [
    {
     "name": "stdout",
     "output_type": "stream",
     "text": [
      "first 1000 characters:\n",
      "\n",
      "<!DOCTYPE html PUBLIC \"-//W3C//DTD XHTML 1.0 Transitional//EN\" \"http://www.w3.org/TR/xhtml1/DTD/xhtml1-transitional.dtd\">\n",
      "<html style=\"height:100%;\" xmlns=\"http://www.w3.org/1999/xhtml\">\n",
      " <head>\n",
      "  <title>\n",
      "   Rental Car Low Price Finder at Costco Travel\n",
      "  </title>\n",
      "  <meta content=\"IE=edge,chrome=1\" http-equiv=\"X-UA-Compatible\"/>\n",
      "  <meta content=\"Price all brands in one search with our Low Price Finder. Enter your criteria and we'll shop all coupons, codes and discounts for the lowest prices!\" name=\"description\"/>\n",
      "  <meta content=\"www.costcotravel.com: Rental Cars,Car Rentals,Low Price Finder,Alamo,Avis,Budget,Enterprise\" name=\"keywords\"/>\n",
      "  <meta content=\"text/html; charset=utf-8\" http-equiv=\"Content-Type\"/>\n",
      "  <meta content=\"GENERAL\" name=\"rating\"/>\n",
      "  <meta content=\"\" name=\"robots\"/>\n",
      "  <link href=\"https://www.costcotravel.com\" id=\"desktop\" media=\"only screen and (min-device-width: 641px)\" rel=\"alternate\"/>\n",
      "  <link href=\"https://m.costcotravel.com\" id=\"phone\" media=\"only screen and (max-\n",
      "\n",
      "last 1000 characters:\n",
      "ltsrcattempted=\"0\" id=\"_searchingImage\" initialized=\"1\" src=\"https://www.costcotravel.com/shared/images/searching.gif\" style=\"width: 168px; height: 16px;\"/>\n",
      "    </div>\n",
      "   </div>\n",
      "  </div>\n",
      "  <script type=\"text/javascript\">\n",
      "   loadBackground();\n",
      "  </script>\n",
      "  <!--\t\n",
      "\t|***** Server Information ******\n",
      "\t|*                              \n",
      "\t|*  Server = 23\n",
      "\t|*  Time = Thursday, April 28, 2016 5:56:10 PM PDT    \n",
      "\t|*            \n",
      "\t|*******************************\t\n",
      "\t-->\n",
      "  <script type=\"text/javascript\">\n",
      "   DomUtil.createCookie(\"Csrf-token\", \"69f0015a649ea07937934b8f7059502502be7c3a67f975cf9049dd3cc7d5a8913c8300310bc91599cc739a9797596f685251232d6f882d40b5d5b49ed80ef408\");\n",
      "\t\t\t\n",
      "\t\t\t\tUnsupportedBrowserPopup.showUnsupportedBrowserPopup();\n",
      "\t\t\t\tif(!DomUtil.areCookiesEnabled()){\n",
      "\t\t\t\t\tMessageUtil.showErrorMessage(Navigation.TranslationMessages.COOKIES_DISABLED_MESSAGE, \"dataContent\");\n",
      "\t\t\t\t}\n",
      "\t\t\t\t\n",
      "\t\t\t\tNavigation.manageDynamicElements();\n",
      "\t\t\t\tNavigation.removeLocaleCodeQueryParameter();\n",
      "  </script>\n",
      " </body>\n",
      "</html>\n"
     ]
    }
   ],
   "source": [
    "print \"first 1000 characters:\\n\"\n",
    "print soup.prettify()[:1000]\n",
    "print \"\\nlast 1000 characters:\"\n",
    "print soup.prettify()[-1000:]"
   ]
  },
  {
   "cell_type": "code",
   "execution_count": 68,
   "metadata": {
    "collapsed": false
   },
   "outputs": [],
   "source": [
    "table = soup.find('div',{'class':'rentalCarTableDetails'}) #find the table"
   ]
  },
  {
   "cell_type": "code",
   "execution_count": 70,
   "metadata": {
    "collapsed": false
   },
   "outputs": [
    {
     "name": "stdout",
     "output_type": "stream",
     "text": [
      "first 1000 characters:\n",
      "\n",
      "<div class=\"rentalCarTableDetails\">\n",
      " <table border=\"0\" cellpadding=\"5\" cellspacing=\"0\" class=\"carMatrixTable\" width=\"100%\">\n",
      "  <tbody>\n",
      "   <tr>\n",
      "    <th class=\"w123 nob tar fs10\" rowspan=\"2\">\n",
      "     Taxes and fees are included in the price\n",
      "    </th>\n",
      "    <th class=\"w141 tac\">\n",
      "     <img alt=\"Alamo Rent A Car Logo\" altsrcattempted=\"0\" initialized=\"1\" src=\"https://www.costcotravel.com/content/shared/images/logos/car/Alamo_m.gif\"/>\n",
      "    </th>\n",
      "    <th class=\"w141 tac\">\n",
      "     <img alt=\"Avis Rent A Car Logo\" altsrcattempted=\"0\" initialized=\"1\" src=\"https://www.costcotravel.com/content/shared/images/logos/car/Avis_m.gif\"/>\n",
      "    </th>\n",
      "    <th class=\"w141 tac\">\n",
      "     <img alt=\"Budget Rent A Car Logo\" altsrcattempted=\"0\" initialized=\"1\" src=\"https://www.costcotravel.com/content/shared/images/logos/car/Budget_m.gif\"/>\n",
      "    </th>\n",
      "    <th class=\"w141 tac\">\n",
      "     <img alt=\"Enterprise Rent A Car Logo\" altsrcattempted=\"0\" initialized=\"1\" src=\"https://www.costcotravel.com/content/shared/images/logos/car/Enterprise_\n",
      "\n",
      "last 1000 characters:\n",
      "bca45:1545f80ad1e:5a44', false );\">\n",
      "       $595\n",
      "      </a>\n",
      "     </div>\n",
      "    </td>\n",
      "    <td class=\"\">\n",
      "     <div class=\"carCell\">\n",
      "      <a class=\"u \" href=\"javascript:;\" onclick=\"javascript:RentalCarMatrix.selectCarCategoryFromGrid( '-317bca45:1545f80ad1e:5a44', '-317bca45:1545f80ad1e:5b37', '-317bca45:1545f80ad1e:5a44', false );\">\n",
      "       $739\n",
      "      </a>\n",
      "     </div>\n",
      "    </td>\n",
      "    <td class=\"\">\n",
      "     <div class=\"carCell\">\n",
      "      <a class=\"u \" href=\"javascript:;\" onclick=\"javascript:RentalCarMatrix.selectCarCategoryFromGrid( '-317bca45:1545f80ad1e:5a44', '-317bca45:1545f80ad1e:5b14', '-317bca45:1545f80ad1e:5a44', false );\">\n",
      "       $730\n",
      "      </a>\n",
      "     </div>\n",
      "    </td>\n",
      "    <td class=\"\">\n",
      "     <div class=\"carCell\">\n",
      "      <a class=\"u \" href=\"javascript:;\" onclick=\"javascript:RentalCarMatrix.selectCarCategoryFromGrid( '-317bca45:1545f80ad1e:5a44', '-317bca45:1545f80ad1e:5c92', '-317bca45:1545f80ad1e:5a44', false );\">\n",
      "       $595\n",
      "      </a>\n",
      "     </div>\n",
      "    </td>\n",
      "   </tr>\n",
      "  </tbody>\n",
      " </table>\n",
      "</div>\n",
      "\n"
     ]
    }
   ],
   "source": [
    "print \"first 1000 characters:\\n\"\n",
    "print table.prettify()[:1000]\n",
    "print \"\\nlast 1000 characters:\"\n",
    "print table.prettify()[-1000:]"
   ]
  },
  {
   "cell_type": "code",
   "execution_count": 71,
   "metadata": {
    "collapsed": false
   },
   "outputs": [],
   "source": [
    "tr = table.select('tr') #let's look at one of the row"
   ]
  },
  {
   "cell_type": "code",
   "execution_count": 72,
   "metadata": {
    "collapsed": false
   },
   "outputs": [
    {
     "data": {
      "text/plain": [
       "list"
      ]
     },
     "execution_count": 72,
     "metadata": {},
     "output_type": "execute_result"
    }
   ],
   "source": [
    "type(tr)"
   ]
  },
  {
   "cell_type": "code",
   "execution_count": 75,
   "metadata": {
    "collapsed": false
   },
   "outputs": [
    {
     "name": "stdout",
     "output_type": "stream",
     "text": [
      "<tr>\n",
      " <th class=\"w123 nob tar fs10\" rowspan=\"2\">\n",
      "  Taxes and fees are included in the price\n",
      " </th>\n",
      " <th class=\"w141 tac\">\n",
      "  <img alt=\"Alamo Rent A Car Logo\" altsrcattempted=\"0\" initialized=\"1\" src=\"https://www.costcotravel.com/content/shared/images/logos/car/Alamo_m.gif\"/>\n",
      " </th>\n",
      " <th class=\"w141 tac\">\n",
      "  <img alt=\"Avis Rent A Car Logo\" altsrcattempted=\"0\" initialized=\"1\" src=\"https://www.costcotravel.com/content/shared/images/logos/car/Avis_m.gif\"/>\n",
      " </th>\n",
      " <th class=\"w141 tac\">\n",
      "  <img alt=\"Budget Rent A Car Logo\" altsrcattempted=\"0\" initialized=\"1\" src=\"https://www.costcotravel.com/content/shared/images/logos/car/Budget_m.gif\"/>\n",
      " </th>\n",
      " <th class=\"w141 tac\">\n",
      "  <img alt=\"Enterprise Rent A Car Logo\" altsrcattempted=\"0\" initialized=\"1\" src=\"https://www.costcotravel.com/content/shared/images/logos/car/Enterprise_m.gif\"/>\n",
      " </th>\n",
      "</tr>\n",
      "\n",
      "-----------------------------------\n",
      "<tr>\n",
      " <th class=\"nob tac\">\n",
      "  Phx Sky Harbor Intl Arpt\n",
      "  <br/>\n",
      "  Shuttle\n",
      " </th>\n",
      " <th class=\"nob tac\">\n",
      "  Phoenix Sky Harbor Airport\n",
      "  <br/>\n",
      "  Shuttle\n",
      " </th>\n",
      " <th class=\"nob tac\">\n",
      "  Sky Harbor Intl Airport\n",
      "  <br/>\n",
      "  Shuttle\n",
      " </th>\n",
      " <th class=\"nob tac\">\n",
      "  Phx Sky Harbor Intl Arpt\n",
      "  <br/>\n",
      "  Shuttle\n",
      " </th>\n",
      "</tr>\n",
      "\n",
      "-----------------------------------\n",
      "<tr>\n",
      " <th class=\"w123 nob tar fs10\">\n",
      "  Location Hours\n",
      " </th>\n",
      " <th class=\"nob tac\">\n",
      "  24 Hours\n",
      " </th>\n",
      " <th class=\"nob tac\">\n",
      "  24 Hours\n",
      " </th>\n",
      " <th class=\"nob tac\">\n",
      "  24 Hours\n",
      " </th>\n",
      " <th class=\"nob tac\">\n",
      "  24 Hours\n",
      " </th>\n",
      "</tr>\n",
      "\n",
      "-----------------------------------\n"
     ]
    }
   ],
   "source": [
    "#lets look at first five row\n",
    "for i in tr[0:3]:\n",
    "    print i.prettify()\n",
    "    print \"-----------------------------------\""
   ]
  },
  {
   "cell_type": "markdown",
   "metadata": {},
   "source": [
    "let play with one of the row"
   ]
  },
  {
   "cell_type": "code",
   "execution_count": 76,
   "metadata": {
    "collapsed": false
   },
   "outputs": [],
   "source": [
    "row = tr[3] "
   ]
  },
  {
   "cell_type": "code",
   "execution_count": 77,
   "metadata": {
    "collapsed": false
   },
   "outputs": [
    {
     "data": {
      "text/plain": [
       "'Economy Car'"
      ]
     },
     "execution_count": 77,
     "metadata": {},
     "output_type": "execute_result"
    }
   ],
   "source": [
    "row.find('th',{'class':'tar'}).text.encode('utf-8')"
   ]
  },
  {
   "cell_type": "code",
   "execution_count": 78,
   "metadata": {
    "collapsed": false
   },
   "outputs": [
    {
     "data": {
      "text/plain": [
       "<tr><th class=\"tar\">Economy Car</th><td class=\"\"><div class=\"carCell\"><a class=\"u linkredU\" href=\"javascript:;\" onclick=\"javascript:RentalCarMatrix.selectCarCategoryFromGrid( '-317bca45:1545f80ad1e:5a44', '-317bca45:1545f80ad1e:5c2f', '-317bca45:1545f80ad1e:5a44', false );\">$159</a></div></td><td class=\"\"><div class=\"carCell\"><a class=\"u \" href=\"javascript:;\" onclick=\"javascript:RentalCarMatrix.selectCarCategoryFromGrid( '-317bca45:1545f80ad1e:5a44', '-317bca45:1545f80ad1e:5b22', '-317bca45:1545f80ad1e:5a44', false );\">$515</a></div></td><td class=\"\"><div class=\"carCell\"><a class=\"u \" href=\"javascript:;\" onclick=\"javascript:RentalCarMatrix.selectCarCategoryFromGrid( '-317bca45:1545f80ad1e:5a44', '-317bca45:1545f80ad1e:5af8', '-317bca45:1545f80ad1e:5a44', false );\">$364</a></div></td><td class=\"\"><div class=\"carCell\"><a class=\"u \" href=\"javascript:;\" onclick=\"javascript:RentalCarMatrix.selectCarCategoryFromGrid( '-317bca45:1545f80ad1e:5a44', '-317bca45:1545f80ad1e:5ca4', '-317bca45:1545f80ad1e:5a44', false );\">$173</a></div></td></tr>"
      ]
     },
     "execution_count": 78,
     "metadata": {},
     "output_type": "execute_result"
    }
   ],
   "source": [
    "row"
   ]
  },
  {
   "cell_type": "code",
   "execution_count": 79,
   "metadata": {
    "collapsed": false
   },
   "outputs": [
    {
     "data": {
      "text/plain": [
       "u'$173'"
      ]
     },
     "execution_count": 79,
     "metadata": {},
     "output_type": "execute_result"
    }
   ],
   "source": [
    "row.contents[4].text #1. this is unicode, 2. the dollar sign is in the way"
   ]
  },
  {
   "cell_type": "code",
   "execution_count": 80,
   "metadata": {
    "collapsed": false
   },
   "outputs": [
    {
     "data": {
      "text/plain": [
       "True"
      ]
     },
     "execution_count": 80,
     "metadata": {},
     "output_type": "execute_result"
    }
   ],
   "source": [
    "'Car' in 'Econ Car' #use this string logic to filter out unwanted data"
   ]
  },
  {
   "cell_type": "code",
   "execution_count": 81,
   "metadata": {
    "collapsed": false
   },
   "outputs": [],
   "source": [
    "rows = [i for i in tr if (('Price' not in i.contents[0].text and  'Fees' not in i.contents[0].text and 'Location' not in i.contents[0].text and i.contents[0].text !='') and len(i.contents[0].text)<30)]\n",
    "# use this crazy list comprehension to get the data we want \n",
    "#1. don't want the text 'Price' in the first column\n",
    "#2. don't want the text 'Fee' in the first column\n",
    "#3. don't want the text 'Location' in the first column\n",
    "#4. the text length of first column must be less than 30 characters long"
   ]
  },
  {
   "cell_type": "code",
   "execution_count": 82,
   "metadata": {
    "collapsed": false
   },
   "outputs": [
    {
     "data": {
      "text/plain": [
       "u'Economy Car'"
      ]
     },
     "execution_count": 82,
     "metadata": {},
     "output_type": "execute_result"
    }
   ],
   "source": [
    "rows[0].contents[0].text #just exploring here..."
   ]
  },
  {
   "cell_type": "code",
   "execution_count": 83,
   "metadata": {
    "collapsed": false
   },
   "outputs": [
    {
     "data": {
      "text/plain": [
       "u'$173'"
      ]
     },
     "execution_count": 83,
     "metadata": {},
     "output_type": "execute_result"
    }
   ],
   "source": [
    "rows[0].contents[4].text #need to get rid of the $...."
   ]
  },
  {
   "cell_type": "code",
   "execution_count": 84,
   "metadata": {
    "collapsed": false
   },
   "outputs": [
    {
     "data": {
      "text/plain": [
       "u'Standard Car'"
      ]
     },
     "execution_count": 84,
     "metadata": {},
     "output_type": "execute_result"
    }
   ],
   "source": [
    "rows[3].contents[0].text #need to make it utf-8"
   ]
  },
  {
   "cell_type": "code",
   "execution_count": 85,
   "metadata": {
    "collapsed": false
   },
   "outputs": [
    {
     "name": "stdout",
     "output_type": "stream",
     "text": [
      "Economy Car\n",
      "Compact Car\n",
      "Intermediate Car\n",
      "Standard Car\n",
      "Fullsize Car\n",
      "Premium Car\n",
      "Intermediate SUV\n",
      "Standard SUV\n",
      "Premium Crossover\n",
      "Mini Van\n",
      "Standard Van\n",
      "Fullsize SUV\n",
      "Standard Convertible\n",
      "Standard Specialty\n",
      "Fullsize Specialty\n",
      "Premium Specialty\n",
      "Luxury Specialty\n",
      "Luxury Car\n",
      "Premium SUV\n",
      "Luxury SUV\n",
      "Fullsize Van\n"
     ]
    }
   ],
   "source": [
    "#process the data\n",
    "prices = {} \n",
    "for i in rows:\n",
    "    #print the 1st column text\n",
    "    print i.contents[0].text.encode('utf-8')\n",
    "    prices[i.contents[0].text.encode('utf-8')] = [i.contents[1].text.encode('utf-8'),i.contents[2].text.encode('utf-8'), i.contents[3].text.encode('utf-8'),i.contents[4].text.encode('utf-8')]"
   ]
  },
  {
   "cell_type": "code",
   "execution_count": 86,
   "metadata": {
    "collapsed": false
   },
   "outputs": [
    {
     "data": {
      "text/plain": [
       "{'Compact Car': ['$164', '$459', '$364', '$178'],\n",
       " 'Economy Car': ['$159', '$515', '$364', '$173'],\n",
       " 'Fullsize Car': ['$175', '$528', '$378', '$175'],\n",
       " 'Fullsize SUV': ['$383', '$735', '$610', '$383'],\n",
       " 'Fullsize Specialty': ['Not Available',\n",
       "  'Not Available',\n",
       "  'Not Available',\n",
       "  '$1,025'],\n",
       " 'Fullsize Van': ['$595', '$739', '$730', '$595'],\n",
       " 'Intermediate Car': ['$166.77', '$473', '$373', '$180'],\n",
       " 'Intermediate SUV': ['$416', '$570', '$486', '$416'],\n",
       " 'Luxury Car': ['$361', '$652', '$566', '$361'],\n",
       " 'Luxury SUV': ['$590', 'Not Available', 'Not Available', '$590'],\n",
       " 'Luxury Specialty': ['Not Available',\n",
       "  'Not Available',\n",
       "  'Not Available',\n",
       "  '$1,220'],\n",
       " 'Mini Van': ['$285', '$556', '$548', '$291'],\n",
       " 'Premium Car': ['$335', '$625', '$495', '$335'],\n",
       " 'Premium Crossover': ['Not Available',\n",
       "  'Not Available',\n",
       "  'Not Available',\n",
       "  '$383'],\n",
       " 'Premium SUV': ['$472', '$905', '$730', '$472'],\n",
       " 'Premium Specialty': ['Not Available',\n",
       "  'Not Available',\n",
       "  'Not Available',\n",
       "  '$1,025'],\n",
       " 'Standard Car': ['$164', '$528', '$376', '$164'],\n",
       " 'Standard Convertible': ['$489', '$712', '$612', '$489'],\n",
       " 'Standard SUV': ['$306', '$611', '$475', '$306'],\n",
       " 'Standard Specialty': ['$188', 'Not Available', 'Not Available', '$188'],\n",
       " 'Standard Van': ['$452', 'Not Available', 'Not Available', 'Not Available']}"
      ]
     },
     "execution_count": 86,
     "metadata": {},
     "output_type": "execute_result"
    }
   ],
   "source": [
    "prices"
   ]
  },
  {
   "cell_type": "code",
   "execution_count": 87,
   "metadata": {
    "collapsed": false
   },
   "outputs": [],
   "source": [
    "iteritems = prices.iteritems() \n",
    "#call .iteritems() on a dictionary will give you a generator which you can iter over"
   ]
  },
  {
   "cell_type": "code",
   "execution_count": 88,
   "metadata": {
    "collapsed": false
   },
   "outputs": [
    {
     "data": {
      "text/plain": [
       "('Standard Car', ['$164', '$528', '$376', '$164'])"
      ]
     },
     "execution_count": 88,
     "metadata": {},
     "output_type": "execute_result"
    }
   ],
   "source": [
    "iteritems.next() #run me five times"
   ]
  },
  {
   "cell_type": "code",
   "execution_count": 89,
   "metadata": {
    "collapsed": false
   },
   "outputs": [],
   "source": [
    "for name, priceList in prices.iteritems():\n",
    "    newPriceList = []\n",
    "    for i in priceList:\n",
    "        newPriceList.append(i.replace('$',''))\n",
    "    prices[name] = newPriceList"
   ]
  },
  {
   "cell_type": "code",
   "execution_count": 90,
   "metadata": {
    "collapsed": false
   },
   "outputs": [
    {
     "data": {
      "text/plain": [
       "{'Compact Car': ['164', '459', '364', '178'],\n",
       " 'Economy Car': ['159', '515', '364', '173'],\n",
       " 'Fullsize Car': ['175', '528', '378', '175'],\n",
       " 'Fullsize SUV': ['383', '735', '610', '383'],\n",
       " 'Fullsize Specialty': ['Not Available',\n",
       "  'Not Available',\n",
       "  'Not Available',\n",
       "  '1,025'],\n",
       " 'Fullsize Van': ['595', '739', '730', '595'],\n",
       " 'Intermediate Car': ['166.77', '473', '373', '180'],\n",
       " 'Intermediate SUV': ['416', '570', '486', '416'],\n",
       " 'Luxury Car': ['361', '652', '566', '361'],\n",
       " 'Luxury SUV': ['590', 'Not Available', 'Not Available', '590'],\n",
       " 'Luxury Specialty': ['Not Available',\n",
       "  'Not Available',\n",
       "  'Not Available',\n",
       "  '1,220'],\n",
       " 'Mini Van': ['285', '556', '548', '291'],\n",
       " 'Premium Car': ['335', '625', '495', '335'],\n",
       " 'Premium Crossover': ['Not Available',\n",
       "  'Not Available',\n",
       "  'Not Available',\n",
       "  '383'],\n",
       " 'Premium SUV': ['472', '905', '730', '472'],\n",
       " 'Premium Specialty': ['Not Available',\n",
       "  'Not Available',\n",
       "  'Not Available',\n",
       "  '1,025'],\n",
       " 'Standard Car': ['164', '528', '376', '164'],\n",
       " 'Standard Convertible': ['489', '712', '612', '489'],\n",
       " 'Standard SUV': ['306', '611', '475', '306'],\n",
       " 'Standard Specialty': ['188', 'Not Available', 'Not Available', '188'],\n",
       " 'Standard Van': ['452', 'Not Available', 'Not Available', 'Not Available']}"
      ]
     },
     "execution_count": 90,
     "metadata": {},
     "output_type": "execute_result"
    }
   ],
   "source": [
    "prices"
   ]
  },
  {
   "cell_type": "code",
   "execution_count": 91,
   "metadata": {
    "collapsed": false
   },
   "outputs": [],
   "source": [
    "data = pd.DataFrame.from_dict(prices, orient='index') #get a pandas DataFrame from the prices dictionary"
   ]
  },
  {
   "cell_type": "code",
   "execution_count": 92,
   "metadata": {
    "collapsed": false
   },
   "outputs": [
    {
     "data": {
      "text/html": [
       "<div>\n",
       "<table border=\"1\" class=\"dataframe\">\n",
       "  <thead>\n",
       "    <tr style=\"text-align: right;\">\n",
       "      <th></th>\n",
       "      <th>0</th>\n",
       "      <th>1</th>\n",
       "      <th>2</th>\n",
       "      <th>3</th>\n",
       "    </tr>\n",
       "  </thead>\n",
       "  <tbody>\n",
       "    <tr>\n",
       "      <th>Standard Car</th>\n",
       "      <td>164</td>\n",
       "      <td>528</td>\n",
       "      <td>376</td>\n",
       "      <td>164</td>\n",
       "    </tr>\n",
       "    <tr>\n",
       "      <th>Premium Car</th>\n",
       "      <td>335</td>\n",
       "      <td>625</td>\n",
       "      <td>495</td>\n",
       "      <td>335</td>\n",
       "    </tr>\n",
       "    <tr>\n",
       "      <th>Standard Convertible</th>\n",
       "      <td>489</td>\n",
       "      <td>712</td>\n",
       "      <td>612</td>\n",
       "      <td>489</td>\n",
       "    </tr>\n",
       "    <tr>\n",
       "      <th>Compact Car</th>\n",
       "      <td>164</td>\n",
       "      <td>459</td>\n",
       "      <td>364</td>\n",
       "      <td>178</td>\n",
       "    </tr>\n",
       "    <tr>\n",
       "      <th>Fullsize Van</th>\n",
       "      <td>595</td>\n",
       "      <td>739</td>\n",
       "      <td>730</td>\n",
       "      <td>595</td>\n",
       "    </tr>\n",
       "    <tr>\n",
       "      <th>Economy Car</th>\n",
       "      <td>159</td>\n",
       "      <td>515</td>\n",
       "      <td>364</td>\n",
       "      <td>173</td>\n",
       "    </tr>\n",
       "    <tr>\n",
       "      <th>Fullsize SUV</th>\n",
       "      <td>383</td>\n",
       "      <td>735</td>\n",
       "      <td>610</td>\n",
       "      <td>383</td>\n",
       "    </tr>\n",
       "    <tr>\n",
       "      <th>Luxury SUV</th>\n",
       "      <td>590</td>\n",
       "      <td>Not Available</td>\n",
       "      <td>Not Available</td>\n",
       "      <td>590</td>\n",
       "    </tr>\n",
       "    <tr>\n",
       "      <th>Standard Van</th>\n",
       "      <td>452</td>\n",
       "      <td>Not Available</td>\n",
       "      <td>Not Available</td>\n",
       "      <td>Not Available</td>\n",
       "    </tr>\n",
       "    <tr>\n",
       "      <th>Fullsize Car</th>\n",
       "      <td>175</td>\n",
       "      <td>528</td>\n",
       "      <td>378</td>\n",
       "      <td>175</td>\n",
       "    </tr>\n",
       "    <tr>\n",
       "      <th>Intermediate SUV</th>\n",
       "      <td>416</td>\n",
       "      <td>570</td>\n",
       "      <td>486</td>\n",
       "      <td>416</td>\n",
       "    </tr>\n",
       "    <tr>\n",
       "      <th>Fullsize Specialty</th>\n",
       "      <td>Not Available</td>\n",
       "      <td>Not Available</td>\n",
       "      <td>Not Available</td>\n",
       "      <td>1,025</td>\n",
       "    </tr>\n",
       "    <tr>\n",
       "      <th>Luxury Car</th>\n",
       "      <td>361</td>\n",
       "      <td>652</td>\n",
       "      <td>566</td>\n",
       "      <td>361</td>\n",
       "    </tr>\n",
       "    <tr>\n",
       "      <th>Intermediate Car</th>\n",
       "      <td>166.77</td>\n",
       "      <td>473</td>\n",
       "      <td>373</td>\n",
       "      <td>180</td>\n",
       "    </tr>\n",
       "    <tr>\n",
       "      <th>Mini Van</th>\n",
       "      <td>285</td>\n",
       "      <td>556</td>\n",
       "      <td>548</td>\n",
       "      <td>291</td>\n",
       "    </tr>\n",
       "    <tr>\n",
       "      <th>Standard SUV</th>\n",
       "      <td>306</td>\n",
       "      <td>611</td>\n",
       "      <td>475</td>\n",
       "      <td>306</td>\n",
       "    </tr>\n",
       "    <tr>\n",
       "      <th>Premium Crossover</th>\n",
       "      <td>Not Available</td>\n",
       "      <td>Not Available</td>\n",
       "      <td>Not Available</td>\n",
       "      <td>383</td>\n",
       "    </tr>\n",
       "    <tr>\n",
       "      <th>Premium SUV</th>\n",
       "      <td>472</td>\n",
       "      <td>905</td>\n",
       "      <td>730</td>\n",
       "      <td>472</td>\n",
       "    </tr>\n",
       "    <tr>\n",
       "      <th>Luxury Specialty</th>\n",
       "      <td>Not Available</td>\n",
       "      <td>Not Available</td>\n",
       "      <td>Not Available</td>\n",
       "      <td>1,220</td>\n",
       "    </tr>\n",
       "    <tr>\n",
       "      <th>Premium Specialty</th>\n",
       "      <td>Not Available</td>\n",
       "      <td>Not Available</td>\n",
       "      <td>Not Available</td>\n",
       "      <td>1,025</td>\n",
       "    </tr>\n",
       "    <tr>\n",
       "      <th>Standard Specialty</th>\n",
       "      <td>188</td>\n",
       "      <td>Not Available</td>\n",
       "      <td>Not Available</td>\n",
       "      <td>188</td>\n",
       "    </tr>\n",
       "  </tbody>\n",
       "</table>\n",
       "</div>"
      ],
      "text/plain": [
       "                                  0              1              2  \\\n",
       "Standard Car                    164            528            376   \n",
       "Premium Car                     335            625            495   \n",
       "Standard Convertible            489            712            612   \n",
       "Compact Car                     164            459            364   \n",
       "Fullsize Van                    595            739            730   \n",
       "Economy Car                     159            515            364   \n",
       "Fullsize SUV                    383            735            610   \n",
       "Luxury SUV                      590  Not Available  Not Available   \n",
       "Standard Van                    452  Not Available  Not Available   \n",
       "Fullsize Car                    175            528            378   \n",
       "Intermediate SUV                416            570            486   \n",
       "Fullsize Specialty    Not Available  Not Available  Not Available   \n",
       "Luxury Car                      361            652            566   \n",
       "Intermediate Car             166.77            473            373   \n",
       "Mini Van                        285            556            548   \n",
       "Standard SUV                    306            611            475   \n",
       "Premium Crossover     Not Available  Not Available  Not Available   \n",
       "Premium SUV                     472            905            730   \n",
       "Luxury Specialty      Not Available  Not Available  Not Available   \n",
       "Premium Specialty     Not Available  Not Available  Not Available   \n",
       "Standard Specialty              188  Not Available  Not Available   \n",
       "\n",
       "                                  3  \n",
       "Standard Car                    164  \n",
       "Premium Car                     335  \n",
       "Standard Convertible            489  \n",
       "Compact Car                     178  \n",
       "Fullsize Van                    595  \n",
       "Economy Car                     173  \n",
       "Fullsize SUV                    383  \n",
       "Luxury SUV                      590  \n",
       "Standard Van          Not Available  \n",
       "Fullsize Car                    175  \n",
       "Intermediate SUV                416  \n",
       "Fullsize Specialty            1,025  \n",
       "Luxury Car                      361  \n",
       "Intermediate Car                180  \n",
       "Mini Van                        291  \n",
       "Standard SUV                    306  \n",
       "Premium Crossover               383  \n",
       "Premium SUV                     472  \n",
       "Luxury Specialty              1,220  \n",
       "Premium Specialty             1,025  \n",
       "Standard Specialty              188  "
      ]
     },
     "execution_count": 92,
     "metadata": {},
     "output_type": "execute_result"
    }
   ],
   "source": [
    "data"
   ]
  },
  {
   "cell_type": "code",
   "execution_count": 93,
   "metadata": {
    "collapsed": false
   },
   "outputs": [],
   "source": [
    "data = data.replace('Not Available', numpy.nan) #replace the 'Not Available' data point to numpy.nan"
   ]
  },
  {
   "cell_type": "code",
   "execution_count": 94,
   "metadata": {
    "collapsed": false
   },
   "outputs": [],
   "source": [
    "data = pd.to_numeric(data, errors='coerce') #cast to numeric data"
   ]
  },
  {
   "cell_type": "code",
   "execution_count": 95,
   "metadata": {
    "collapsed": false
   },
   "outputs": [
    {
     "data": {
      "text/html": [
       "<div>\n",
       "<table border=\"1\" class=\"dataframe\">\n",
       "  <thead>\n",
       "    <tr style=\"text-align: right;\">\n",
       "      <th></th>\n",
       "      <th>0</th>\n",
       "      <th>1</th>\n",
       "      <th>2</th>\n",
       "      <th>3</th>\n",
       "    </tr>\n",
       "  </thead>\n",
       "  <tbody>\n",
       "    <tr>\n",
       "      <th>Standard Car</th>\n",
       "      <td>164</td>\n",
       "      <td>528</td>\n",
       "      <td>376</td>\n",
       "      <td>164</td>\n",
       "    </tr>\n",
       "    <tr>\n",
       "      <th>Premium Car</th>\n",
       "      <td>335</td>\n",
       "      <td>625</td>\n",
       "      <td>495</td>\n",
       "      <td>335</td>\n",
       "    </tr>\n",
       "    <tr>\n",
       "      <th>Standard Convertible</th>\n",
       "      <td>489</td>\n",
       "      <td>712</td>\n",
       "      <td>612</td>\n",
       "      <td>489</td>\n",
       "    </tr>\n",
       "    <tr>\n",
       "      <th>Compact Car</th>\n",
       "      <td>164</td>\n",
       "      <td>459</td>\n",
       "      <td>364</td>\n",
       "      <td>178</td>\n",
       "    </tr>\n",
       "    <tr>\n",
       "      <th>Fullsize Van</th>\n",
       "      <td>595</td>\n",
       "      <td>739</td>\n",
       "      <td>730</td>\n",
       "      <td>595</td>\n",
       "    </tr>\n",
       "    <tr>\n",
       "      <th>Economy Car</th>\n",
       "      <td>159</td>\n",
       "      <td>515</td>\n",
       "      <td>364</td>\n",
       "      <td>173</td>\n",
       "    </tr>\n",
       "    <tr>\n",
       "      <th>Fullsize SUV</th>\n",
       "      <td>383</td>\n",
       "      <td>735</td>\n",
       "      <td>610</td>\n",
       "      <td>383</td>\n",
       "    </tr>\n",
       "    <tr>\n",
       "      <th>Luxury SUV</th>\n",
       "      <td>590</td>\n",
       "      <td>NaN</td>\n",
       "      <td>NaN</td>\n",
       "      <td>590</td>\n",
       "    </tr>\n",
       "    <tr>\n",
       "      <th>Standard Van</th>\n",
       "      <td>452</td>\n",
       "      <td>NaN</td>\n",
       "      <td>NaN</td>\n",
       "      <td>NaN</td>\n",
       "    </tr>\n",
       "    <tr>\n",
       "      <th>Fullsize Car</th>\n",
       "      <td>175</td>\n",
       "      <td>528</td>\n",
       "      <td>378</td>\n",
       "      <td>175</td>\n",
       "    </tr>\n",
       "    <tr>\n",
       "      <th>Intermediate SUV</th>\n",
       "      <td>416</td>\n",
       "      <td>570</td>\n",
       "      <td>486</td>\n",
       "      <td>416</td>\n",
       "    </tr>\n",
       "    <tr>\n",
       "      <th>Fullsize Specialty</th>\n",
       "      <td>NaN</td>\n",
       "      <td>NaN</td>\n",
       "      <td>NaN</td>\n",
       "      <td>1,025</td>\n",
       "    </tr>\n",
       "    <tr>\n",
       "      <th>Luxury Car</th>\n",
       "      <td>361</td>\n",
       "      <td>652</td>\n",
       "      <td>566</td>\n",
       "      <td>361</td>\n",
       "    </tr>\n",
       "    <tr>\n",
       "      <th>Intermediate Car</th>\n",
       "      <td>166.77</td>\n",
       "      <td>473</td>\n",
       "      <td>373</td>\n",
       "      <td>180</td>\n",
       "    </tr>\n",
       "    <tr>\n",
       "      <th>Mini Van</th>\n",
       "      <td>285</td>\n",
       "      <td>556</td>\n",
       "      <td>548</td>\n",
       "      <td>291</td>\n",
       "    </tr>\n",
       "    <tr>\n",
       "      <th>Standard SUV</th>\n",
       "      <td>306</td>\n",
       "      <td>611</td>\n",
       "      <td>475</td>\n",
       "      <td>306</td>\n",
       "    </tr>\n",
       "    <tr>\n",
       "      <th>Premium Crossover</th>\n",
       "      <td>NaN</td>\n",
       "      <td>NaN</td>\n",
       "      <td>NaN</td>\n",
       "      <td>383</td>\n",
       "    </tr>\n",
       "    <tr>\n",
       "      <th>Premium SUV</th>\n",
       "      <td>472</td>\n",
       "      <td>905</td>\n",
       "      <td>730</td>\n",
       "      <td>472</td>\n",
       "    </tr>\n",
       "    <tr>\n",
       "      <th>Luxury Specialty</th>\n",
       "      <td>NaN</td>\n",
       "      <td>NaN</td>\n",
       "      <td>NaN</td>\n",
       "      <td>1,220</td>\n",
       "    </tr>\n",
       "    <tr>\n",
       "      <th>Premium Specialty</th>\n",
       "      <td>NaN</td>\n",
       "      <td>NaN</td>\n",
       "      <td>NaN</td>\n",
       "      <td>1,025</td>\n",
       "    </tr>\n",
       "    <tr>\n",
       "      <th>Standard Specialty</th>\n",
       "      <td>188</td>\n",
       "      <td>NaN</td>\n",
       "      <td>NaN</td>\n",
       "      <td>188</td>\n",
       "    </tr>\n",
       "  </tbody>\n",
       "</table>\n",
       "</div>"
      ],
      "text/plain": [
       "                           0    1    2      3\n",
       "Standard Car             164  528  376    164\n",
       "Premium Car              335  625  495    335\n",
       "Standard Convertible     489  712  612    489\n",
       "Compact Car              164  459  364    178\n",
       "Fullsize Van             595  739  730    595\n",
       "Economy Car              159  515  364    173\n",
       "Fullsize SUV             383  735  610    383\n",
       "Luxury SUV               590  NaN  NaN    590\n",
       "Standard Van             452  NaN  NaN    NaN\n",
       "Fullsize Car             175  528  378    175\n",
       "Intermediate SUV         416  570  486    416\n",
       "Fullsize Specialty       NaN  NaN  NaN  1,025\n",
       "Luxury Car               361  652  566    361\n",
       "Intermediate Car      166.77  473  373    180\n",
       "Mini Van                 285  556  548    291\n",
       "Standard SUV             306  611  475    306\n",
       "Premium Crossover        NaN  NaN  NaN    383\n",
       "Premium SUV              472  905  730    472\n",
       "Luxury Specialty         NaN  NaN  NaN  1,220\n",
       "Premium Specialty        NaN  NaN  NaN  1,025\n",
       "Standard Specialty       188  NaN  NaN    188"
      ]
     },
     "execution_count": 95,
     "metadata": {},
     "output_type": "execute_result"
    }
   ],
   "source": [
    "data"
   ]
  },
  {
   "cell_type": "code",
   "execution_count": 96,
   "metadata": {
    "collapsed": false
   },
   "outputs": [],
   "source": [
    "data.columns= ['Alamo','Avis','Budget','Enterprise'] #set column names"
   ]
  },
  {
   "cell_type": "code",
   "execution_count": 97,
   "metadata": {
    "collapsed": false
   },
   "outputs": [
    {
     "data": {
      "text/html": [
       "<div>\n",
       "<table border=\"1\" class=\"dataframe\">\n",
       "  <thead>\n",
       "    <tr style=\"text-align: right;\">\n",
       "      <th></th>\n",
       "      <th>Alamo</th>\n",
       "      <th>Avis</th>\n",
       "      <th>Budget</th>\n",
       "      <th>Enterprise</th>\n",
       "    </tr>\n",
       "  </thead>\n",
       "  <tbody>\n",
       "    <tr>\n",
       "      <th>Standard Car</th>\n",
       "      <td>164</td>\n",
       "      <td>528</td>\n",
       "      <td>376</td>\n",
       "      <td>164</td>\n",
       "    </tr>\n",
       "    <tr>\n",
       "      <th>Premium Car</th>\n",
       "      <td>335</td>\n",
       "      <td>625</td>\n",
       "      <td>495</td>\n",
       "      <td>335</td>\n",
       "    </tr>\n",
       "    <tr>\n",
       "      <th>Standard Convertible</th>\n",
       "      <td>489</td>\n",
       "      <td>712</td>\n",
       "      <td>612</td>\n",
       "      <td>489</td>\n",
       "    </tr>\n",
       "    <tr>\n",
       "      <th>Compact Car</th>\n",
       "      <td>164</td>\n",
       "      <td>459</td>\n",
       "      <td>364</td>\n",
       "      <td>178</td>\n",
       "    </tr>\n",
       "    <tr>\n",
       "      <th>Fullsize Van</th>\n",
       "      <td>595</td>\n",
       "      <td>739</td>\n",
       "      <td>730</td>\n",
       "      <td>595</td>\n",
       "    </tr>\n",
       "    <tr>\n",
       "      <th>Economy Car</th>\n",
       "      <td>159</td>\n",
       "      <td>515</td>\n",
       "      <td>364</td>\n",
       "      <td>173</td>\n",
       "    </tr>\n",
       "    <tr>\n",
       "      <th>Fullsize SUV</th>\n",
       "      <td>383</td>\n",
       "      <td>735</td>\n",
       "      <td>610</td>\n",
       "      <td>383</td>\n",
       "    </tr>\n",
       "    <tr>\n",
       "      <th>Luxury SUV</th>\n",
       "      <td>590</td>\n",
       "      <td>NaN</td>\n",
       "      <td>NaN</td>\n",
       "      <td>590</td>\n",
       "    </tr>\n",
       "    <tr>\n",
       "      <th>Standard Van</th>\n",
       "      <td>452</td>\n",
       "      <td>NaN</td>\n",
       "      <td>NaN</td>\n",
       "      <td>NaN</td>\n",
       "    </tr>\n",
       "    <tr>\n",
       "      <th>Fullsize Car</th>\n",
       "      <td>175</td>\n",
       "      <td>528</td>\n",
       "      <td>378</td>\n",
       "      <td>175</td>\n",
       "    </tr>\n",
       "    <tr>\n",
       "      <th>Intermediate SUV</th>\n",
       "      <td>416</td>\n",
       "      <td>570</td>\n",
       "      <td>486</td>\n",
       "      <td>416</td>\n",
       "    </tr>\n",
       "    <tr>\n",
       "      <th>Fullsize Specialty</th>\n",
       "      <td>NaN</td>\n",
       "      <td>NaN</td>\n",
       "      <td>NaN</td>\n",
       "      <td>1,025</td>\n",
       "    </tr>\n",
       "    <tr>\n",
       "      <th>Luxury Car</th>\n",
       "      <td>361</td>\n",
       "      <td>652</td>\n",
       "      <td>566</td>\n",
       "      <td>361</td>\n",
       "    </tr>\n",
       "    <tr>\n",
       "      <th>Intermediate Car</th>\n",
       "      <td>166.77</td>\n",
       "      <td>473</td>\n",
       "      <td>373</td>\n",
       "      <td>180</td>\n",
       "    </tr>\n",
       "    <tr>\n",
       "      <th>Mini Van</th>\n",
       "      <td>285</td>\n",
       "      <td>556</td>\n",
       "      <td>548</td>\n",
       "      <td>291</td>\n",
       "    </tr>\n",
       "    <tr>\n",
       "      <th>Standard SUV</th>\n",
       "      <td>306</td>\n",
       "      <td>611</td>\n",
       "      <td>475</td>\n",
       "      <td>306</td>\n",
       "    </tr>\n",
       "    <tr>\n",
       "      <th>Premium Crossover</th>\n",
       "      <td>NaN</td>\n",
       "      <td>NaN</td>\n",
       "      <td>NaN</td>\n",
       "      <td>383</td>\n",
       "    </tr>\n",
       "    <tr>\n",
       "      <th>Premium SUV</th>\n",
       "      <td>472</td>\n",
       "      <td>905</td>\n",
       "      <td>730</td>\n",
       "      <td>472</td>\n",
       "    </tr>\n",
       "    <tr>\n",
       "      <th>Luxury Specialty</th>\n",
       "      <td>NaN</td>\n",
       "      <td>NaN</td>\n",
       "      <td>NaN</td>\n",
       "      <td>1,220</td>\n",
       "    </tr>\n",
       "    <tr>\n",
       "      <th>Premium Specialty</th>\n",
       "      <td>NaN</td>\n",
       "      <td>NaN</td>\n",
       "      <td>NaN</td>\n",
       "      <td>1,025</td>\n",
       "    </tr>\n",
       "    <tr>\n",
       "      <th>Standard Specialty</th>\n",
       "      <td>188</td>\n",
       "      <td>NaN</td>\n",
       "      <td>NaN</td>\n",
       "      <td>188</td>\n",
       "    </tr>\n",
       "  </tbody>\n",
       "</table>\n",
       "</div>"
      ],
      "text/plain": [
       "                       Alamo Avis Budget Enterprise\n",
       "Standard Car             164  528    376        164\n",
       "Premium Car              335  625    495        335\n",
       "Standard Convertible     489  712    612        489\n",
       "Compact Car              164  459    364        178\n",
       "Fullsize Van             595  739    730        595\n",
       "Economy Car              159  515    364        173\n",
       "Fullsize SUV             383  735    610        383\n",
       "Luxury SUV               590  NaN    NaN        590\n",
       "Standard Van             452  NaN    NaN        NaN\n",
       "Fullsize Car             175  528    378        175\n",
       "Intermediate SUV         416  570    486        416\n",
       "Fullsize Specialty       NaN  NaN    NaN      1,025\n",
       "Luxury Car               361  652    566        361\n",
       "Intermediate Car      166.77  473    373        180\n",
       "Mini Van                 285  556    548        291\n",
       "Standard SUV             306  611    475        306\n",
       "Premium Crossover        NaN  NaN    NaN        383\n",
       "Premium SUV              472  905    730        472\n",
       "Luxury Specialty         NaN  NaN    NaN      1,220\n",
       "Premium Specialty        NaN  NaN    NaN      1,025\n",
       "Standard Specialty       188  NaN    NaN        188"
      ]
     },
     "execution_count": 97,
     "metadata": {},
     "output_type": "execute_result"
    }
   ],
   "source": [
    "data"
   ]
  },
  {
   "cell_type": "code",
   "execution_count": 98,
   "metadata": {
    "collapsed": false
   },
   "outputs": [
    {
     "data": {
      "text/html": [
       "<div>\n",
       "<table border=\"1\" class=\"dataframe\">\n",
       "  <thead>\n",
       "    <tr style=\"text-align: right;\">\n",
       "      <th></th>\n",
       "      <th>Alamo</th>\n",
       "      <th>Avis</th>\n",
       "      <th>Budget</th>\n",
       "      <th>Enterprise</th>\n",
       "    </tr>\n",
       "  </thead>\n",
       "  <tbody>\n",
       "    <tr>\n",
       "      <th>Standard Car</th>\n",
       "      <td>True</td>\n",
       "      <td>True</td>\n",
       "      <td>True</td>\n",
       "      <td>True</td>\n",
       "    </tr>\n",
       "    <tr>\n",
       "      <th>Premium Car</th>\n",
       "      <td>True</td>\n",
       "      <td>True</td>\n",
       "      <td>True</td>\n",
       "      <td>True</td>\n",
       "    </tr>\n",
       "    <tr>\n",
       "      <th>Standard Convertible</th>\n",
       "      <td>True</td>\n",
       "      <td>True</td>\n",
       "      <td>True</td>\n",
       "      <td>True</td>\n",
       "    </tr>\n",
       "    <tr>\n",
       "      <th>Compact Car</th>\n",
       "      <td>True</td>\n",
       "      <td>True</td>\n",
       "      <td>True</td>\n",
       "      <td>True</td>\n",
       "    </tr>\n",
       "    <tr>\n",
       "      <th>Fullsize Van</th>\n",
       "      <td>True</td>\n",
       "      <td>True</td>\n",
       "      <td>True</td>\n",
       "      <td>True</td>\n",
       "    </tr>\n",
       "    <tr>\n",
       "      <th>Economy Car</th>\n",
       "      <td>True</td>\n",
       "      <td>True</td>\n",
       "      <td>True</td>\n",
       "      <td>True</td>\n",
       "    </tr>\n",
       "    <tr>\n",
       "      <th>Fullsize SUV</th>\n",
       "      <td>True</td>\n",
       "      <td>True</td>\n",
       "      <td>True</td>\n",
       "      <td>True</td>\n",
       "    </tr>\n",
       "    <tr>\n",
       "      <th>Luxury SUV</th>\n",
       "      <td>True</td>\n",
       "      <td>False</td>\n",
       "      <td>False</td>\n",
       "      <td>True</td>\n",
       "    </tr>\n",
       "    <tr>\n",
       "      <th>Standard Van</th>\n",
       "      <td>True</td>\n",
       "      <td>False</td>\n",
       "      <td>False</td>\n",
       "      <td>False</td>\n",
       "    </tr>\n",
       "    <tr>\n",
       "      <th>Fullsize Car</th>\n",
       "      <td>True</td>\n",
       "      <td>True</td>\n",
       "      <td>True</td>\n",
       "      <td>True</td>\n",
       "    </tr>\n",
       "    <tr>\n",
       "      <th>Intermediate SUV</th>\n",
       "      <td>True</td>\n",
       "      <td>True</td>\n",
       "      <td>True</td>\n",
       "      <td>True</td>\n",
       "    </tr>\n",
       "    <tr>\n",
       "      <th>Fullsize Specialty</th>\n",
       "      <td>False</td>\n",
       "      <td>False</td>\n",
       "      <td>False</td>\n",
       "      <td>True</td>\n",
       "    </tr>\n",
       "    <tr>\n",
       "      <th>Luxury Car</th>\n",
       "      <td>True</td>\n",
       "      <td>True</td>\n",
       "      <td>True</td>\n",
       "      <td>True</td>\n",
       "    </tr>\n",
       "    <tr>\n",
       "      <th>Intermediate Car</th>\n",
       "      <td>True</td>\n",
       "      <td>True</td>\n",
       "      <td>True</td>\n",
       "      <td>True</td>\n",
       "    </tr>\n",
       "    <tr>\n",
       "      <th>Mini Van</th>\n",
       "      <td>True</td>\n",
       "      <td>True</td>\n",
       "      <td>True</td>\n",
       "      <td>True</td>\n",
       "    </tr>\n",
       "    <tr>\n",
       "      <th>Standard SUV</th>\n",
       "      <td>True</td>\n",
       "      <td>True</td>\n",
       "      <td>True</td>\n",
       "      <td>True</td>\n",
       "    </tr>\n",
       "    <tr>\n",
       "      <th>Premium Crossover</th>\n",
       "      <td>False</td>\n",
       "      <td>False</td>\n",
       "      <td>False</td>\n",
       "      <td>True</td>\n",
       "    </tr>\n",
       "    <tr>\n",
       "      <th>Premium SUV</th>\n",
       "      <td>True</td>\n",
       "      <td>True</td>\n",
       "      <td>True</td>\n",
       "      <td>True</td>\n",
       "    </tr>\n",
       "    <tr>\n",
       "      <th>Luxury Specialty</th>\n",
       "      <td>False</td>\n",
       "      <td>False</td>\n",
       "      <td>False</td>\n",
       "      <td>True</td>\n",
       "    </tr>\n",
       "    <tr>\n",
       "      <th>Premium Specialty</th>\n",
       "      <td>False</td>\n",
       "      <td>False</td>\n",
       "      <td>False</td>\n",
       "      <td>True</td>\n",
       "    </tr>\n",
       "    <tr>\n",
       "      <th>Standard Specialty</th>\n",
       "      <td>True</td>\n",
       "      <td>False</td>\n",
       "      <td>False</td>\n",
       "      <td>True</td>\n",
       "    </tr>\n",
       "  </tbody>\n",
       "</table>\n",
       "</div>"
      ],
      "text/plain": [
       "                      Alamo   Avis Budget Enterprise\n",
       "Standard Car           True   True   True       True\n",
       "Premium Car            True   True   True       True\n",
       "Standard Convertible   True   True   True       True\n",
       "Compact Car            True   True   True       True\n",
       "Fullsize Van           True   True   True       True\n",
       "Economy Car            True   True   True       True\n",
       "Fullsize SUV           True   True   True       True\n",
       "Luxury SUV             True  False  False       True\n",
       "Standard Van           True  False  False      False\n",
       "Fullsize Car           True   True   True       True\n",
       "Intermediate SUV       True   True   True       True\n",
       "Fullsize Specialty    False  False  False       True\n",
       "Luxury Car             True   True   True       True\n",
       "Intermediate Car       True   True   True       True\n",
       "Mini Van               True   True   True       True\n",
       "Standard SUV           True   True   True       True\n",
       "Premium Crossover     False  False  False       True\n",
       "Premium SUV            True   True   True       True\n",
       "Luxury Specialty      False  False  False       True\n",
       "Premium Specialty     False  False  False       True\n",
       "Standard Specialty     True  False  False       True"
      ]
     },
     "execution_count": 98,
     "metadata": {},
     "output_type": "execute_result"
    }
   ],
   "source": [
    "data.notnull() #check for missing data "
   ]
  },
  {
   "cell_type": "code",
   "execution_count": 99,
   "metadata": {
    "collapsed": false
   },
   "outputs": [
    {
     "data": {
      "text/plain": [
       "Standard Car            164.000000\n",
       "Premium Car             335.000000\n",
       "Standard Convertible    489.000000\n",
       "Compact Car             164.000000\n",
       "Fullsize Van            595.000000\n",
       "Economy Car             159.000000\n",
       "Fullsize SUV            383.000000\n",
       "Luxury SUV                     inf\n",
       "Standard Van                   inf\n",
       "Fullsize Car            175.000000\n",
       "Intermediate SUV        416.000000\n",
       "Fullsize Specialty             inf\n",
       "Luxury Car              361.000000\n",
       "Intermediate Car        166.770000\n",
       "Mini Van                285.000000\n",
       "Standard SUV            306.000000\n",
       "Premium Crossover              inf\n",
       "Premium SUV             472.000000\n",
       "Luxury Specialty               inf\n",
       "Premium Specialty              inf\n",
       "Standard Specialty             inf\n",
       "dtype: float64"
      ]
     },
     "execution_count": 99,
     "metadata": {},
     "output_type": "execute_result"
    }
   ],
   "source": [
    "data.min(axis=1, skipna=True) #look at the cheapest car in each class"
   ]
  },
  {
   "cell_type": "markdown",
   "metadata": {
    "collapsed": false
   },
   "source": [
    "From this point on, you can set up to run every night and email yourself results etc."
   ]
  },
  {
   "cell_type": "code",
   "execution_count": null,
   "metadata": {
    "collapsed": true
   },
   "outputs": [],
   "source": []
  }
 ],
 "metadata": {
  "kernelspec": {
   "display_name": "Python 2",
   "language": "python",
   "name": "python2"
  },
  "language_info": {
   "codemirror_mode": {
    "name": "ipython",
    "version": 2
   },
   "file_extension": ".py",
   "mimetype": "text/x-python",
   "name": "python",
   "nbconvert_exporter": "python",
   "pygments_lexer": "ipython2",
   "version": "2.7.10"
  }
 },
 "nbformat": 4,
 "nbformat_minor": 0
}
